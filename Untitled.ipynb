{
  "metadata": {
    "language_info": {
      "codemirror_mode": {
        "name": "python",
        "version": 3
      },
      "file_extension": ".py",
      "mimetype": "text/x-python",
      "name": "python",
      "nbconvert_exporter": "python",
      "pygments_lexer": "ipython3",
      "version": "3.8"
    },
    "kernelspec": {
      "name": "python",
      "display_name": "Python (Pyodide)",
      "language": "python"
    }
  },
  "nbformat_minor": 4,
  "nbformat": 4,
  "cells": [
    {
      "cell_type": "markdown",
      "source": "# My Jupyter Notebook on IBM Watson Studio",
      "metadata": {}
    },
    {
      "cell_type": "markdown",
      "source": "<b> Roshan\n    ",
      "metadata": {}
    },
    {
      "cell_type": "markdown",
      "source": "100% human",
      "metadata": {}
    },
    {
      "cell_type": "markdown",
      "source": "*i am intrested in data science because i belive that data is gold*",
      "metadata": {}
    },
    {
      "cell_type": "markdown",
      "source": "### The following code tests the print function ",
      "metadata": {}
    },
    {
      "cell_type": "code",
      "source": "print(\"roshan is studying ibm data science in coursera\")",
      "metadata": {
        "trusted": true
      },
      "execution_count": 8,
      "outputs": [
        {
          "name": "stdout",
          "text": "roshan is studying ibm data science in coursera\n",
          "output_type": "stream"
        }
      ]
    },
    {
      "cell_type": "markdown",
      "source": "- Jupyter notebook 0\n- jupyter notebook 1\n- jupyter notebook 2 \n\n\n",
      "metadata": {}
    },
    {
      "cell_type": "markdown",
      "source": "~jupyter notebook 1~\n\n~jupyter notebook 2~\n\n~jupyter notebook 3~",
      "metadata": {}
    },
    {
      "cell_type": "markdown",
      "source": "www.ibm.com",
      "metadata": {}
    },
    {
      "cell_type": "code",
      "source": "",
      "metadata": {},
      "execution_count": null,
      "outputs": []
    }
  ]
}